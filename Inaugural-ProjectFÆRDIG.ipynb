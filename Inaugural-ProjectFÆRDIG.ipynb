{
 "cells": [
  {
   "cell_type": "markdown",
   "metadata": {},
   "source": [
    "## Inaugural project - Frederik Ahm, Christian Bak & Jacob Jensen"
   ]
  },
  {
   "cell_type": "markdown",
   "metadata": {},
   "source": [
    "\\begin{aligned}\n",
    "c^{\\star},\\ell^{\\star} & = & \\arg\\max_{c,\\ell}\\log(c)-\\nu\\frac{\\ell^{1+\\frac{1}{\\varepsilon}}}{1+\\frac{1}{\\varepsilon}}\\label{eq:obj}\\\\\n",
    " & \\text{s.t.}\\nonumber \\\\\n",
    " \\end{aligned}"
   ]
  },
  {
   "cell_type": "markdown",
   "metadata": {},
   "source": [
    "\n",
    "\\begin{aligned}\n",
    "x & = & m+w\\ell-\\left[\\tau_{0}w\\ell+\\tau_{1}\\max\\{w\\ell-\\kappa,0\\}\\right]\\nonumber\n",
    "\\end{aligned}\n"
   ]
  },
  {
   "cell_type": "markdown",
   "metadata": {},
   "source": [
    "\\begin{aligned}\n",
    "c & \\in & [0,x]\\nonumber\n",
    "\\end{aligned}"
   ]
  },
  {
   "cell_type": "markdown",
   "metadata": {},
   "source": [
    "\\begin{aligned}\n",
    "\\ell & \\in & [0,1],\\nonumber \n",
    "\\end{aligned}"
   ]
  },
  {
   "cell_type": "markdown",
   "metadata": {},
   "source": [
    "# Question 1"
   ]
  },
  {
   "cell_type": "markdown",
   "metadata": {},
   "source": [
    "We start off by defining variables and importing relevant packages.\n",
    "\n",
    "Afterwards we define our functions as given in the assignment. U_func for the utility function and bc_func for our budget constraint.\n",
    "\n",
    "Then we define our function, pref_func, as the consumption equal to budget constraint. This is the function which we will now optimize using our imported package, \"scipy\".\n",
    "\n",
    "By using all the given values, we can now find the optimal labour, which helps us calculate the consumption and utility, also called c_star and u_star.\n",
    "\n"
   ]
  },
  {
   "cell_type": "code",
   "execution_count": 9,
   "metadata": {},
   "outputs": [
    {
     "name": "stdout",
     "output_type": "stream",
     "text": [
      "The optimal Labour is:  0.40000068196481897\n",
      "The optimal consumption is:  1.2400003409824096\n",
      "The optimal utility is:  0.17158308392555632\n"
     ]
    }
   ],
   "source": [
    "#Importing relevant packages:\n",
    "import numpy as np\n",
    "from scipy import optimize\n",
    "\n",
    "#Defining relevant variables\n",
    "m=1 #money\n",
    "v=10 #v\n",
    "e=0.3 #frisch\n",
    "t0=0.4 #ltax\n",
    "t1=0.1 #ttax\n",
    "k=0.4 #cutoff\n",
    "w=1 #Setting the standard wage rate to 1\n",
    "\n",
    "#We are now defining the utility function\n",
    "def u_func(l, c, e, v):\n",
    "    u = np.log(c) - v * l**(1+1/e) / (1+1/e)\n",
    "    return u\n",
    "\n",
    "#We are now defining the budget constraint\n",
    "def bc_func(m, w, l, t0, t1, k):\n",
    "    x = m + w * l - w * l * t0 - t1 * max((w*l-k), 0)\n",
    "    return x\n",
    "\n",
    "#Setting consumption equal to budget, since we know the consumer will use all of the budget.\n",
    "#This is the function we want to optimize using scipy\n",
    "def pref_func(l, w, e, v, t0, t1, k):\n",
    "    c=bc_func(m, w, l, t0, t1, k)\n",
    "    return -u_func(l, c, e, v)\n",
    "\n",
    "#defining optimizer so that we are optimizing the consumers function for l.\n",
    "def optimizer(w, e, v, t0, t1, k, m):\n",
    "    opti_func1 = optimize.minimize_scalar(pref_func, method='bounded',bounds=(0,1), args=(w,e,v,t0, t1, k))\n",
    "    \n",
    "    #Optimal labour equlas the optimized solution in the function:\n",
    "    l_star=opti_func1.x\n",
    "    \n",
    "    #The optimal consumption is equal to the budget constraint-function with the optimized labour:\n",
    "    c_star=bc_func(m, w, l_star, t0, t1, k)\n",
    "    \n",
    "    #With the optimal- consumption and labour we can now find the newly optimized utility function\n",
    "    u_star=u_func(l_star, c_star, e, v)\n",
    "    return [l_star, c_star, u_star]\n",
    "\n",
    "#We are utilizing the optimized list as follows:\n",
    "l_star = optimizer(w, e, v, t0, t1, k, m)[0]\n",
    "c_star = optimizer(w, e, v, t0, t1, k, m)[1]\n",
    "u_star = optimizer(w, e, v, t0, t1, k, m)[2]\n",
    "\n",
    "print(\"The optimal Labour is: \", l_star)\n",
    "print(\"The optimal consumption is: \",c_star)\n",
    "print(\"The optimal utility is: \", u_star)"
   ]
  },
  {
   "cell_type": "markdown",
   "metadata": {},
   "source": [
    "# Question 2"
   ]
  },
  {
   "cell_type": "markdown",
   "metadata": {},
   "source": [
    "In this question we will need the the Matplotlib.pyplot pacakge.\n",
    "\n",
    "\n",
    "Plot $c^*$ and $\\ell^*$ as functions of $w$ in the range 0,5 - 1,5"
   ]
  },
  {
   "cell_type": "code",
   "execution_count": 10,
   "metadata": {},
   "outputs": [
    {
     "data": {
      "text/plain": [
       "[<matplotlib.lines.Line2D at 0x1b75b280048>]"
      ]
     },
     "execution_count": 10,
     "metadata": {},
     "output_type": "execute_result"
    },
    {
     "data": {
      "image/png": "[encoded data removed]",
      "text/plain": [
       "<Figure size 432x288 with 1 Axes>"
      ]
     },
     "metadata": {
      "needs_background": "light"
     },
     "output_type": "display_data"
    }
   ],
   "source": [
    "#Import the relevant package for plotting.\n",
    "import matplotlib.pyplot as plt\n",
    "\n",
    "#Defining new variable and converting answers from question 1 to numpy arrays\n",
    "N=10000\n",
    "w_vec=np.linspace (0.5, 1.5, N)\n",
    "c_vec=np.empty(N)\n",
    "l_vec=np.empty(N)\n",
    "\n",
    "#Enumerating for w\n",
    "for i,w in enumerate(w_vec):\n",
    "    l_vec[i], c_vec[i], _ = optimizer(w, e, v, t0, t1, k, m)\n",
    "\n",
    "#Setting up figure/plot for the consumption graph\n",
    "fig = plt.figure()\n",
    "ax = fig.add_subplot(1,1,1)\n",
    "\n",
    "#Adding labels, grid and title to the graph\n",
    "ax.set_title('Consumption Graph')\n",
    "ax.set_xlabel('$w$')\n",
    "ax.set_ylabel('$c$')\n",
    "ax.grid(True);\n",
    "\n",
    "    \n",
    "#Create figure with plt.\n",
    "plt.plot(w_vec,c_vec)"
   ]
  },
  {
   "cell_type": "code",
   "execution_count": 11,
   "metadata": {},
   "outputs": [
    {
     "data": {
      "text/plain": [
       "[<matplotlib.lines.Line2D at 0x1b75b357d08>]"
      ]
     },
     "execution_count": 11,
     "metadata": {},
     "output_type": "execute_result"
    },
    {
     "data": {
      "image/png": "[encoded data removed]",
      "text/plain": [
       "<Figure size 432x288 with 1 Axes>"
      ]
     },
     "metadata": {
      "needs_background": "light"
     },
     "output_type": "display_data"
    }
   ],
   "source": [
    "#Repeat for the labour graph\n",
    "fig = plt.figure()\n",
    "ax = fig.add_subplot(1,1,1)\n",
    "\n",
    "#Adding labels, grid and title to the graph\n",
    "ax.set_title('Labour Graph')\n",
    "ax.set_xlabel('$w$')\n",
    "ax.set_ylabel('$l$')\n",
    "ax.grid(True);\n",
    "\n",
    "#Creating plot\n",
    "plt.plot(w_vec,l_vec)"
   ]
  },
  {
   "cell_type": "markdown",
   "metadata": {},
   "source": [
    "# Question 3"
   ]
  },
  {
   "cell_type": "markdown",
   "metadata": {},
   "source": [
    "In this question we will calculate the optimal revenue given a new function in the assignment.\n",
    "\n",
    "Denote the optimal choices of individual $l_i^*$ and $c_i^*$.\n",
    "\n"
   ]
  },
  {
   "cell_type": "code",
   "execution_count": 12,
   "metadata": {},
   "outputs": [
    {
     "name": "stdout",
     "output_type": "stream",
     "text": [
      "Total tax revenue:: 1630.19\n"
     ]
    }
   ],
   "source": [
    "#Create empty list for t \n",
    "t = np.empty(N)\n",
    "\n",
    "#Calculate the optimal tax pr. individual\n",
    "for i in range(N):\n",
    "    t[i] = t0*w_vec[i]*l_vec[i] + t1*max([w_vec[i]*l_vec[i]-k,0])\n",
    "    \n",
    "#Finding the sum which is the total tax revenue\n",
    "T = sum(t)\n",
    "print(f'Total tax revenue:: {T:.2f}')"
   ]
  },
  {
   "cell_type": "markdown",
   "metadata": {},
   "source": [
    "# Question 4"
   ]
  },
  {
   "cell_type": "markdown",
   "metadata": {},
   "source": [
    "This question will somewhat follow the same procedure as the last question, but the epsilon is now e2=0,1 instead of e=0,3. "
   ]
  },
  {
   "cell_type": "code",
   "execution_count": 13,
   "metadata": {},
   "outputs": [
    {
     "name": "stdout",
     "output_type": "stream",
     "text": [
      "Total tax revenue:: 3196.88\n"
     ]
    }
   ],
   "source": [
    "#Changing e to e2\n",
    "e2 = 0.1\n",
    "\n",
    "#Creating new empty numpy arrays\n",
    "w_vec2=np.linspace (0.5, 1.5, N)\n",
    "c_vec2=np.empty(N)\n",
    "l_vec2=np.empty(N)\n",
    "\n",
    "#Enumerating for w using the new numpy arrays\n",
    "for i,w in enumerate(w_vec):\n",
    "    l_vec2[i], c_vec2[i], _ = optimizer(w, e2, v, t0, t1, k, m)\n",
    "\n",
    "#Create empty list for tax pr. individual\n",
    "t = np.empty(N)\n",
    "\n",
    "#Calculate the tax revenue for every individual i in the range N = 10.000\n",
    "for i in range(N):\n",
    "    t[i] = t0*w_vec2[i]*l_vec2[i] + t1*max([w_vec2[i]*l_vec2[i]-k,0])\n",
    "    \n",
    "#Accumulating the individual tax revenue\n",
    "T = sum(t)\n",
    "\n",
    "#Printing the result\n",
    "print(f'Total tax revenue:: {T:.2f}')"
   ]
  },
  {
   "cell_type": "markdown",
   "metadata": {},
   "source": [
    "# Question 5"
   ]
  },
  {
   "cell_type": "markdown",
   "metadata": {},
   "source": [
    "In the last question we will find the tax rates and -cutoff, in order to maximize tax revenue under the circumstances of the consumer behaviour."
   ]
  },
  {
   "cell_type": "code",
   "execution_count": 29,
   "metadata": {},
   "outputs": [
    {
     "name": "stdout",
     "output_type": "stream",
     "text": [
      "The optimal standard labour income tax t0 is:  0.8825863861817863\n",
      "The optimal top-bracket labour income tax t1 is:  0.14679469056923133\n",
      "The optimal cut-off for the top labour income is:  0.3002262204011014\n",
      "The total tax revenue given the new parameters is:  15000.000000018441\n"
     ]
    }
   ],
   "source": [
    "#Changing e back to 0.3\n",
    "e = 0.3\n",
    "\n",
    "#Defining the population\n",
    "N = 10000\n",
    "\n",
    "#Defining a function for total tax revenue tt, consisting of the five new vectors for t0,t1,w,l and k\n",
    "def tt(v):\n",
    "    t0_vec=v[0]\n",
    "    t1_vec=v[1]\n",
    "    k_vec=v[2]\n",
    "    w_vec2=v[3]\n",
    "    l_vec2=v[4]\n",
    "\n",
    "#The sum of every agent's tax-payment results is the total tax revenue ttr\n",
    "    ttr = np.sum(t0_vec*w_vec2*l_vec2 + t1_vec*np.max(w_vec2*l_vec2-k_vec,0))\n",
    "    return ttr\n",
    "\n",
    "#Defining a new budget constraint with the use of the vectors\n",
    "def bc_new(v):\n",
    "    t0_vec=v[0]\n",
    "    t1_vec=v[1]\n",
    "    k_vec=v[2]\n",
    "    w_vec2=v[3]\n",
    "    l_vec2=v[4]\n",
    "    bc_n = m * v[3] * v[4] - (v[0]*v[3]*v[4]+v[1]*np.max(v[3]*v[4]-v[2],0))\n",
    "    return bc_n\n",
    "\n",
    "#Defining the function for the optimal total tax revenue. This is the function we are going to optimize. \n",
    "def opt_tt(v):\n",
    "    t0_vec=v[0]\n",
    "    t1_vec=v[1]\n",
    "    k_vec=v[2]\n",
    "    w_vec2=v[3]\n",
    "    l_vec2=v[4]\n",
    "    nc = bc_new(v)\n",
    "    return -tt(v)\n",
    "\n",
    "#Defining the new optimizer using scipy.optimzer\n",
    "#Initial guesses are based upon the parametres given in question 1)\n",
    "initial_guess=[0.4,0.1,0.4,1,0.5]\n",
    "\n",
    "#Creating bounds for t0, t1, k, w, l.\n",
    "bounds = ((0,1) , (0,1) , (0,1) , (0,1.5) , (0,1))\n",
    "\n",
    "#Creating constraints\n",
    "constraints = ({\"type\":\"ineq\",\"fun\":bc_new})\n",
    "\n",
    "#Using SLSQP to optimize the opt_tt function\n",
    "tttr = optimize.minimize(opt_tt,initial_guess,bounds=bounds,constraints=constraints,method=\"SLSQP\")\n",
    "\n",
    "#Unpacking results from the optimizer\n",
    "t0_new = tttr.x[0]\n",
    "t1_new = tttr.x[1]\n",
    "k_new = tttr.x[2]\n",
    "w_new = tttr.x[3]\n",
    "l_new = tttr.x[4]\n",
    "\n",
    "#Using the method from question 3\n",
    "\n",
    "#Create empty list for t \n",
    "t = np.empty(N)\n",
    "\n",
    "#Calculate the tax revenue pr. individual given the new parameters\n",
    "for i in range(N):\n",
    "    t[i] = t0_new*w_new*l_new + t1_new*max([w_new*l_new-k_new,0])\n",
    "\n",
    "#Finding the sum which is the total tax revenue\n",
    "tax_rev_new = sum(t)\n",
    "\n",
    "#Printing the results\n",
    "print(\"The optimal standard labour income tax t0 is: \", tttr.x[0])\n",
    "print(\"The optimal top-bracket labour income tax t1 is: \",tttr.x[1])\n",
    "print(\"The optimal cut-off for the top labour income is: \", tttr.x[2])\n",
    "print(\"The total tax revenue given the new parameters is: \", tax_rev_new)"
   ]
  },
  {
   "cell_type": "markdown",
   "metadata": {},
   "source": [
    "## Conclusion"
   ]
  },
  {
   "cell_type": "markdown",
   "metadata": {},
   "source": [
    "Throughout this project we have been trying to maximize tax revenue by optimizing the given parameters. We can conlude that the optimal labour and tax bracket parameters, which are given in question 5, gives us the largest tax revenue; 15.000."
   ]
  },
  {
   "cell_type": "code",
   "execution_count": null,
   "metadata": {},
   "outputs": [],
   "source": []
  }
 ],
 "metadata": {
  "kernelspec": {
   "display_name": "Python 3",
   "language": "python",
   "name": "python3"
  },
  "language_info": {
   "codemirror_mode": {
    "name": "ipython",
    "version": 3
   },
   "file_extension": ".py",
   "mimetype": "text/x-python",
   "name": "python",
   "nbconvert_exporter": "python",
   "pygments_lexer": "ipython3",
   "version": "3.7.4"
  }
 },
 "nbformat": 4,
 "nbformat_minor": 4
}
